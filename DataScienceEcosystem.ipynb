{
 "cells": [
  {
   "cell_type": "markdown",
   "id": "28dfd27f-c3b1-44ec-9e2f-494974885aad",
   "metadata": {},
   "source": [
    "# Data Science Tools and Ecosystem"
   ]
  },
  {
   "cell_type": "markdown",
   "id": "f64c241c-87e6-46fc-83d0-d7ace904e52e",
   "metadata": {},
   "source": [
    "_In this notebook, Data Science Tools and Ecosystem are summarized_"
   ]
  },
  {
   "cell_type": "markdown",
   "id": "56e89017-8ad0-4071-b88e-f28926211fa7",
   "metadata": {},
   "source": [
    "#### Some of the popular languages that Data Scientists use are:\n",
    "* Python\n",
    "* R\n",
    "* SQL"
   ]
  },
  {
   "cell_type": "markdown",
   "id": "63aea2b3-2d7d-47b4-a272-732441502e6a",
   "metadata": {},
   "source": [
    "#### Some of the commonly used libraries used by Data Scientists include:\n",
    "\n",
    "* Pandas\n",
    "* NumPy\n",
    "* SciPy"
   ]
  },
  {
   "cell_type": "markdown",
   "id": "3aa35dea-cfe1-49f8-b290-09118460ccb3",
   "metadata": {},
   "source": [
    "### Data Science Tools\n",
    "| Data science Tools |\n",
    "| ---- |\n",
    "| Matlab |\n",
    "| Tensor Flow\n",
    "| Python |\n"
   ]
  },
  {
   "cell_type": "markdown",
   "id": "c1920201-ffb5-42c3-999e-5fccf6cc871e",
   "metadata": {},
   "source": [
    "### Below are a few examples of evaluating arithmetic expressions in Python"
   ]
  },
  {
   "cell_type": "code",
   "execution_count": 18,
   "id": "b59897c2-d394-4b9b-982d-78ad29f66f03",
   "metadata": {},
   "outputs": [
    {
     "name": "stdout",
     "output_type": "stream",
     "text": [
      "This a simple arithmetic expression to mutiply then add integers\n"
     ]
    },
    {
     "data": {
      "text/plain": [
       "17"
      ]
     },
     "execution_count": 18,
     "metadata": {},
     "output_type": "execute_result"
    }
   ],
   "source": [
    "print(\"This a simple arithmetic expression to mutiply then add integers\") \n",
    "(3*4)+5"
   ]
  },
  {
   "cell_type": "code",
   "execution_count": 19,
   "id": "a1350fd5-739f-4a3a-8c9a-6937886bbfc3",
   "metadata": {},
   "outputs": [
    {
     "name": "stdout",
     "output_type": "stream",
     "text": [
      "This will convert 200 minutes to hours by diving by 60\n"
     ]
    },
    {
     "data": {
      "text/plain": [
       "3.3333333333333335"
      ]
     },
     "execution_count": 19,
     "metadata": {},
     "output_type": "execute_result"
    }
   ],
   "source": [
    "print(\"This will convert 200 minutes to hours by diving by 60\")\n",
    "(200/60)\n"
   ]
  },
  {
   "cell_type": "markdown",
   "id": "6363704a-a5c0-481f-98c7-cd926b9196c3",
   "metadata": {},
   "source": [
    "## **Objectives**"
   ]
  },
  {
   "cell_type": "markdown",
   "id": "04a28576-d8c6-421d-8cce-886a898f7fc7",
   "metadata": {},
   "source": [
    "**Popular languages for Data Science**\n",
    "\n",
    "* Python\n",
    "* R\n",
    "* SQL\n",
    "* Scala\n",
    "* Java"
   ]
  },
  {
   "cell_type": "markdown",
   "id": "746c23e5-eda3-4545-9dbb-a00164112938",
   "metadata": {},
   "source": [
    "## Sid Tirodkar"
   ]
  }
 ],
 "metadata": {
  "kernelspec": {
   "display_name": "Python",
   "language": "python",
   "name": "conda-env-python-py"
  },
  "language_info": {
   "codemirror_mode": {
    "name": "ipython",
    "version": 3
   },
   "file_extension": ".py",
   "mimetype": "text/x-python",
   "name": "python",
   "nbconvert_exporter": "python",
   "pygments_lexer": "ipython3",
   "version": "3.7.12"
  }
 },
 "nbformat": 4,
 "nbformat_minor": 5
}
